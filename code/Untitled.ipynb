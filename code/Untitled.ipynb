{
 "cells": [
  {
   "cell_type": "code",
   "execution_count": 2,
   "metadata": {},
   "outputs": [
    {
     "data": {
      "text/plain": [
       "9"
      ]
     },
     "execution_count": 2,
     "metadata": {},
     "output_type": "execute_result"
    }
   ],
   "source": [
    "4 + 5"
   ]
  },
  {
   "cell_type": "markdown",
   "metadata": {},
   "source": [
    "\n",
    "<details>\n",
    "<summary>Challenge solutions</summary>\n",
    "sad\n",
    "</details>"
   ]
  },
  {
   "cell_type": "code",
   "execution_count": 5,
   "metadata": {},
   "outputs": [
    {
     "data": {
      "text/plain": [
       "8"
      ]
     },
     "execution_count": 5,
     "metadata": {},
     "output_type": "execute_result"
    }
   ],
   "source": [
    "4 + 4"
   ]
  },
  {
   "cell_type": "markdown",
   "metadata": {},
   "source": [
    "<details>\n",
    "<summary>Challenge solutions</summary>\n",
    "<br>\n",
    "1.\n",
    "<pre><code style=display:block;background-color:#f8f8f8>\n",
    "sns.violinplot(x='weight', y='species', hue='sex', data=surveys_common, split=True)\n",
    "</code></pre>\n",
    "<br>\n",
    "2.\n",
    "<pre><code style=display:block;background-color:#f8f8f8>\n",
    "most_common_species2 = (\n",
    "    surveys['species']\n",
    "       .value_counts()\n",
    "       .nlargest(6)\n",
    "       .index\n",
    ")\n",
    "surveys_common2 = surveys.loc[surveys['species'].isin(most_common_species2)].shape\n",
    "</code></pre>\n",
    "</details>"
   ]
  },
  {
   "cell_type": "code",
   "execution_count": 2,
   "metadata": {},
   "outputs": [
    {
     "ename": "SyntaxError",
     "evalue": "invalid syntax (<ipython-input-2-3f8aeadf576e>, line 2)",
     "output_type": "error",
     "traceback": [
      "\u001b[0;36m  File \u001b[0;32m\"<ipython-input-2-3f8aeadf576e>\"\u001b[0;36m, line \u001b[0;32m2\u001b[0m\n\u001b[0;31m    sdf<br>\u001b[0m\n\u001b[0m           ^\u001b[0m\n\u001b[0;31mSyntaxError\u001b[0m\u001b[0;31m:\u001b[0m invalid syntax\n"
     ]
    }
   ],
   "source": [
    "\n",
    "sdf<br>\n",
    "sdf"
   ]
  },
  {
   "cell_type": "code",
   "execution_count": null,
   "metadata": {},
   "outputs": [],
   "source": [
    "\n",
    "#f8f8f8"
   ]
  },
  {
   "cell_type": "code",
   "execution_count": 6,
   "metadata": {
    "hide_input": true
   },
   "outputs": [
    {
     "data": {
      "text/html": [
       "<details>\n",
       "<summary>Challenge solutions</summary>\n",
       "1.\n",
       "<pre><code style=display:block;background-color:#f8f8f8>\n",
       "sns.violinplot(x='weight', y='species', hue='sex', data=surveys_common, split=True)\n",
       "</code></pre>\n",
       "<br>\n",
       "2.\n",
       "<pre><code style=display:block;background-color:#f8f8f8>\n",
       "most_common_species2 = (\n",
       "    surveys['species']\n",
       "       .value_counts()\n",
       "       .nlargest(6)\n",
       "       .index\n",
       ")\n",
       "surveys_common2 = surveys.loc[surveys['species'].isin(most_common_species2)].shape\n",
       "</code></pre>\n",
       "\n",
       "\n",
       "</details>"
      ],
      "text/plain": [
       "<IPython.core.display.HTML object>"
      ]
     },
     "metadata": {},
     "output_type": "display_data"
    }
   ],
   "source": [
    "%%HTML\n",
    "<details>\n",
    "<summary>Challenge solutions</summary>\n",
    "1.\n",
    "<pre><code style=display:block;background-color:#f8f8f8>\n",
    "sns.violinplot(x='weight', y='species', hue='sex', data=surveys_common, split=True)\n",
    "</code></pre>\n",
    "<br>\n",
    "2.\n",
    "<pre><code style=display:block;background-color:#f8f8f8>\n",
    "most_common_species2 = (\n",
    "    surveys['species']\n",
    "       .value_counts()\n",
    "       .nlargest(6)\n",
    "       .index\n",
    ")\n",
    "surveys_common2 = surveys.loc[surveys['species'].isin(most_common_species2)].shape\n",
    "</code></pre>\n",
    "\n",
    "\n",
    "</details>"
   ]
  },
  {
   "cell_type": "code",
   "execution_count": 3,
   "metadata": {},
   "outputs": [
    {
     "name": "stdout",
     "output_type": "stream",
     "text": [
      "hey\n"
     ]
    }
   ],
   "source": [
    "print('hey')"
   ]
  }
 ],
 "metadata": {
  "kernelspec": {
   "display_name": "Python 3",
   "language": "python",
   "name": "python3"
  },
  "language_info": {
   "codemirror_mode": {
    "name": "ipython",
    "version": 3
   },
   "file_extension": ".py",
   "mimetype": "text/x-python",
   "name": "python",
   "nbconvert_exporter": "python",
   "pygments_lexer": "ipython3",
   "version": "3.6.3"
  }
 },
 "nbformat": 4,
 "nbformat_minor": 2
}
